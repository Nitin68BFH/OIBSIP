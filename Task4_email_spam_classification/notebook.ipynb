{
  "nbformat": 4,
  "nbformat_minor": 0,
  "metadata": {
    "colab": {
      "private_outputs": true,
      "provenance": [],
      "gpuType": "T4"
    },
    "kernelspec": {
      "name": "python3",
      "display_name": "Python 3"
    },
    "language_info": {
      "name": "python"
    },
    "accelerator": "GPU"
  },
  "cells": [
    {
      "cell_type": "markdown",
      "source": [
        "# Imported Dataset\n",
        "---"
      ],
      "metadata": {
        "id": "p6OG7pdz1CXZ"
      }
    },
    {
      "cell_type": "code",
      "execution_count": null,
      "metadata": {
        "id": "Ja4ZT3zm08yQ"
      },
      "outputs": [],
      "source": [
        "import kagglehub\n",
        "\n",
        "# Download latest version\n",
        "path = kagglehub.dataset_download(\"uciml/sms-spam-collection-dataset\")\n",
        "\n",
        "import pandas as pd\n",
        "df = pd.read_csv(path + \"/spam.csv\", encoding='latin-1')\n"
      ]
    },
    {
      "cell_type": "markdown",
      "source": [
        "# Basic Info\n",
        "---"
      ],
      "metadata": {
        "id": "p847o5uc21Tm"
      }
    },
    {
      "cell_type": "code",
      "source": [
        "df.head()"
      ],
      "metadata": {
        "id": "lbq6m8sp1gvr"
      },
      "execution_count": null,
      "outputs": []
    },
    {
      "cell_type": "code",
      "source": [
        "df.info()"
      ],
      "metadata": {
        "id": "9A2XSgAi13UT"
      },
      "execution_count": null,
      "outputs": []
    },
    {
      "cell_type": "code",
      "source": [
        "df.describe()"
      ],
      "metadata": {
        "id": "D3YwDoLw14xW"
      },
      "execution_count": null,
      "outputs": []
    },
    {
      "cell_type": "code",
      "source": [
        "df.drop(columns=['Unnamed: 2', 'Unnamed: 3', 'Unnamed: 4'], inplace=True)"
      ],
      "metadata": {
        "id": "vre3NFb_1tQV"
      },
      "execution_count": null,
      "outputs": []
    },
    {
      "cell_type": "code",
      "source": [
        "df.rename(columns={'v1': 'label', 'v2': 'text'}, inplace=True)"
      ],
      "metadata": {
        "id": "OCFL9-161wwA"
      },
      "execution_count": null,
      "outputs": []
    },
    {
      "cell_type": "code",
      "source": [
        "df.isnull().sum()"
      ],
      "metadata": {
        "id": "FGTpNt0u17Z1"
      },
      "execution_count": null,
      "outputs": []
    },
    {
      "cell_type": "code",
      "source": [
        "df.duplicated().sum()"
      ],
      "metadata": {
        "id": "vYEnyILY2Vqr"
      },
      "execution_count": null,
      "outputs": []
    },
    {
      "cell_type": "code",
      "source": [
        "df.drop_duplicates(inplace=True)"
      ],
      "metadata": {
        "id": "sQF26YV22Z4q"
      },
      "execution_count": null,
      "outputs": []
    },
    {
      "cell_type": "code",
      "source": [
        "df.shape"
      ],
      "metadata": {
        "id": "HDU-PkHk2j9l"
      },
      "execution_count": null,
      "outputs": []
    },
    {
      "cell_type": "markdown",
      "source": [
        "# EDA\n",
        "---"
      ],
      "metadata": {
        "id": "5-Heah8Q26dT"
      }
    },
    {
      "cell_type": "markdown",
      "source": [],
      "metadata": {
        "id": "IdgPz17E3lYL"
      }
    },
    {
      "cell_type": "code",
      "source": [
        "df['label'].value_counts().plot(kind='pie', autopct='%.2f%%')\n"
      ],
      "metadata": {
        "id": "pEbye3eZ2oST"
      },
      "execution_count": null,
      "outputs": []
    },
    {
      "cell_type": "markdown",
      "source": [
        "# Features Engineering\n",
        "---"
      ],
      "metadata": {
        "id": "D8IoK-eS4POj"
      }
    },
    {
      "cell_type": "code",
      "source": [
        "#adding column of length of msg in dataset\n",
        "df['length'] = df['text'].apply(len)"
      ],
      "metadata": {
        "id": "7256QDcR3CxB"
      },
      "execution_count": null,
      "outputs": []
    },
    {
      "cell_type": "code",
      "source": [
        "df.head()"
      ],
      "metadata": {
        "id": "V2eZgIfr4odN"
      },
      "execution_count": null,
      "outputs": []
    },
    {
      "cell_type": "markdown",
      "source": [
        "# Data Processing\n",
        "---"
      ],
      "metadata": {
        "id": "Cycnak564tQr"
      }
    },
    {
      "cell_type": "code",
      "source": [
        "# label encoding for target column\n",
        "from sklearn.preprocessing import LabelEncoder\n",
        "le = LabelEncoder()\n",
        "df['label'] = le.fit_transform(df['label'])\n",
        "\n",
        "# ham --> 0\n",
        "# spam --> 1"
      ],
      "metadata": {
        "id": "BPD1keIX4qfp"
      },
      "execution_count": null,
      "outputs": []
    },
    {
      "cell_type": "code",
      "source": [
        "df.head()"
      ],
      "metadata": {
        "id": "ok6r3O3h5AAW"
      },
      "execution_count": null,
      "outputs": []
    },
    {
      "cell_type": "code",
      "source": [
        "!pip install nltk"
      ],
      "metadata": {
        "id": "qDv8jgyn7uXh"
      },
      "execution_count": null,
      "outputs": []
    },
    {
      "cell_type": "code",
      "source": [
        "#transformation on text column\n",
        "import nltk\n",
        "import string\n",
        "from nltk.corpus import stopwords\n",
        "from nltk.stem.porter import PorterStemmer\n",
        "nltk.download('punkt')\n",
        "nltk.download('punkt_tab') # Download the  resource\n",
        "nltk.download('stopwords')\n",
        "\n",
        "def transfrom_text(text):\n",
        "    text = text.lower()\n",
        "    text = nltk.word_tokenize(text) #seprate the words\n",
        "    y = []\n",
        "    for i in text:\n",
        "        if i.isalnum():  #alnum --> alpha numeric only\n",
        "            y.append(i)\n",
        "\n",
        "    text = y[:]\n",
        "    y.clear()\n",
        "\n",
        "    for i in text:\n",
        "        if i not in stopwords.words('english') and i not in string.punctuation:\n",
        "            y.append(i)\n",
        "\n",
        "    text = y[:]\n",
        "    y.clear()\n",
        "\n",
        "    ps = PorterStemmer()\n",
        "    for i in text:\n",
        "        y.append(ps.stem(i))\n",
        "\n",
        "    return \" \".join(y)"
      ],
      "metadata": {
        "id": "k4Bmi9P25B3B"
      },
      "execution_count": null,
      "outputs": []
    },
    {
      "cell_type": "code",
      "source": [
        "transfrom_text(\"I'm gonna be home soon and i don't want to talk about this stuff anymore tonight, k? I've cried enough today.\")"
      ],
      "metadata": {
        "id": "_S_9UvhZ7pOf"
      },
      "execution_count": null,
      "outputs": []
    },
    {
      "cell_type": "code",
      "source": [
        "df['transfrom_text'] = df['text'].apply(transfrom_text)"
      ],
      "metadata": {
        "id": "TuWpKIv57rnQ"
      },
      "execution_count": null,
      "outputs": []
    },
    {
      "cell_type": "code",
      "source": [
        "df.head()"
      ],
      "metadata": {
        "id": "iZgG9c4Z-zMY"
      },
      "execution_count": null,
      "outputs": []
    },
    {
      "cell_type": "code",
      "source": [
        "from wordcloud import WordCloud\n",
        "\n",
        "wc = WordCloud(width = 500 , height = 500 , background_color= 'white')\n",
        "spam_wc = wc.generate(df[df['label'] == 1]['text'].str.cat(sep = \" \"))"
      ],
      "metadata": {
        "id": "FFMcJGe0-1qi"
      },
      "execution_count": null,
      "outputs": []
    },
    {
      "cell_type": "code",
      "source": [
        "import matplotlib.pyplot as plt\n",
        "plt.figure(figsize = (10,10))\n",
        "plt.imshow(spam_wc)"
      ],
      "metadata": {
        "id": "rCjAXdK_DYo0"
      },
      "execution_count": null,
      "outputs": []
    },
    {
      "cell_type": "code",
      "source": [
        "df.head()"
      ],
      "metadata": {
        "id": "PpnYRMKID5Cv"
      },
      "execution_count": null,
      "outputs": []
    },
    {
      "cell_type": "markdown",
      "source": [
        "# Model building"
      ],
      "metadata": {
        "id": "JIy-LdaYgN93"
      }
    },
    {
      "cell_type": "code",
      "source": [
        "from sklearn.feature_extraction.text import CountVectorizer\n",
        "cv = CountVectorizer()"
      ],
      "metadata": {
        "id": "srOD6Ov4eMyH"
      },
      "execution_count": null,
      "outputs": []
    },
    {
      "cell_type": "code",
      "source": [
        "x = cv.fit_transform(df['transfrom_text'])"
      ],
      "metadata": {
        "id": "lOmqP7DbfjOo"
      },
      "execution_count": null,
      "outputs": []
    },
    {
      "cell_type": "code",
      "source": [
        "df['label'].values"
      ],
      "metadata": {
        "id": "7XDu9Hexf-uZ"
      },
      "execution_count": null,
      "outputs": []
    },
    {
      "cell_type": "code",
      "source": [
        "y = df['label'].values"
      ],
      "metadata": {
        "id": "9RYOxjlpf6Vn"
      },
      "execution_count": null,
      "outputs": []
    },
    {
      "cell_type": "code",
      "source": [
        "from sklearn.model_selection import train_test_split\n",
        "x_train , x_test , y_train , y_test = train_test_split(x,y,test_size=0.2,random_state=2)"
      ],
      "metadata": {
        "id": "yz00hSXngBLE"
      },
      "execution_count": null,
      "outputs": []
    },
    {
      "cell_type": "code",
      "source": [
        "from sklearn.tree import DecisionTreeClassifier\n",
        "model = DecisionTreeClassifier()\n",
        "model.fit(x_train,y_train)\n"
      ],
      "metadata": {
        "id": "-GLt8LS0gMej"
      },
      "execution_count": null,
      "outputs": []
    },
    {
      "cell_type": "code",
      "source": [
        "y_pred = model.predict(x_test)"
      ],
      "metadata": {
        "id": "AVYWeW7jgeRT"
      },
      "execution_count": null,
      "outputs": []
    },
    {
      "cell_type": "code",
      "source": [
        "from sklearn.metrics import accuracy_score , confusion_matrix , precision_score\n",
        "acc_score = accuracy_score(y_test , y_pred)\n",
        "matrix = confusion_matrix(y_test , y_pred)\n",
        "pre_score = precision_score(y_test , y_pred)\n",
        "print(f'accuracy_score :{acc_score}')\n",
        "print(f'confusion_matrix :{matrix}')\n",
        "print(f'precision_score :{pre_score}')\n"
      ],
      "metadata": {
        "id": "E1NYHTGPgfw8"
      },
      "execution_count": null,
      "outputs": []
    },
    {
      "cell_type": "code",
      "source": [
        "import matplotlib.pyplot as plt\n",
        "from sklearn.metrics import ConfusionMatrixDisplay\n",
        "disp = ConfusionMatrixDisplay(confusion_matrix = matrix , display_labels = model.classes_)\n",
        "disp.plot(cmap = 'Blues')\n",
        "plt.show()"
      ],
      "metadata": {
        "id": "bIclHvbAgots"
      },
      "execution_count": null,
      "outputs": []
    },
    {
      "cell_type": "code",
      "source": [
        "from sklearn.ensemble import RandomForestClassifier\n",
        "model_2 = RandomForestClassifier()\n",
        "model_2.fit(x_train,y_train)"
      ],
      "metadata": {
        "id": "GaO2jvTHjj2J"
      },
      "execution_count": null,
      "outputs": []
    },
    {
      "cell_type": "code",
      "source": [
        "y_pred = model_2.predict(x_test)"
      ],
      "metadata": {
        "id": "bygOTZxXkZSU"
      },
      "execution_count": null,
      "outputs": []
    },
    {
      "cell_type": "code",
      "source": [
        "acc_score = accuracy_score(y_test , y_pred)\n",
        "matrix = confusion_matrix(y_test , y_pred)\n",
        "pre_score = precision_score(y_test , y_pred)\n",
        "print(f'accuracy_score :{acc_score}')\n",
        "print(f'confusion_matrix :{matrix}')\n",
        "print(f'precision_score :{pre_score}')"
      ],
      "metadata": {
        "id": "72a768MjkeDo"
      },
      "execution_count": null,
      "outputs": []
    },
    {
      "cell_type": "code",
      "source": [
        "import matplotlib.pyplot as plt\n",
        "from sklearn.metrics import ConfusionMatrixDisplay\n",
        "disp = ConfusionMatrixDisplay(confusion_matrix = matrix , display_labels = model.classes_)\n",
        "disp.plot(cmap = 'Oranges')\n",
        "plt.show()"
      ],
      "metadata": {
        "id": "qpzFsjAUk8Fp"
      },
      "execution_count": null,
      "outputs": []
    },
    {
      "cell_type": "markdown",
      "source": [
        "#Grid Search cv , to get best parameters of randomforest"
      ],
      "metadata": {
        "id": "lWPssbu8lXMH"
      }
    },
    {
      "cell_type": "code",
      "source": [
        "from sklearn.model_selection import GridSearchCV\n"
      ],
      "metadata": {
        "id": "JfQWEC7RlWvJ"
      },
      "execution_count": null,
      "outputs": []
    },
    {
      "cell_type": "code",
      "source": [
        "param_grid = {\n",
        "    'n_estimators': [50,100],\n",
        "    \"max_depth\": [None],\n",
        "    'min_samples_leaf': [1,2,4],\n",
        "    'min_samples_split': [2,5,10]\n",
        "}\n"
      ],
      "metadata": {
        "id": "0GcM8Gj3k88c"
      },
      "execution_count": null,
      "outputs": []
    },
    {
      "cell_type": "code",
      "source": [
        "grid = GridSearchCV(estimator= model_2 , param_grid = param_grid, cv = 5 , scoring = 'accuracy')"
      ],
      "metadata": {
        "id": "VJvU4rjvpyJ3"
      },
      "execution_count": null,
      "outputs": []
    },
    {
      "cell_type": "code",
      "source": [
        "grid.fit(x_train , y_train)"
      ],
      "metadata": {
        "id": "5JNT7A_Pp8Mk"
      },
      "execution_count": null,
      "outputs": []
    },
    {
      "cell_type": "code",
      "source": [
        "print(\"Best parameters:\", grid.best_params_)\n",
        "print(\"Best cross-validation score:\", grid.best_score_)"
      ],
      "metadata": {
        "id": "7LFQPcLpqAz6"
      },
      "execution_count": null,
      "outputs": []
    },
    {
      "cell_type": "markdown",
      "source": [
        "# Save Model"
      ],
      "metadata": {
        "id": "dHIolLWS4tSs"
      }
    },
    {
      "cell_type": "code",
      "source": [
        "best_model = grid.best_estimator_"
      ],
      "metadata": {
        "id": "xemNyXc6p_1B"
      },
      "execution_count": null,
      "outputs": []
    },
    {
      "cell_type": "code",
      "source": [
        "import joblib\n",
        "joblib.dump(best_model,'best_model.joblib',)"
      ],
      "metadata": {
        "id": "zuw_YxCd4pN7"
      },
      "execution_count": null,
      "outputs": []
    },
    {
      "cell_type": "code",
      "source": [
        "joblib.dump(transfrom_text,'transform_text.pkl')"
      ],
      "metadata": {
        "id": "3yVSV4MU5FW2"
      },
      "execution_count": null,
      "outputs": []
    },
    {
      "cell_type": "markdown",
      "source": [],
      "metadata": {
        "id": "zwh3MRHdpXDO"
      }
    },
    {
      "cell_type": "code",
      "source": [
        "# Preprocess the input text\n",
        "transformed_input = transfrom_text('hello')\n",
        "\n",
        "# Convert the transformed text to a format the model expects (e.g., using the same CountVectorizer)\n",
        "# Assuming 'cv' is the CountVectorizer object used for training\n",
        "# You might need to load the CountVectorizer if this cell is run in a new session\n",
        "# import joblib\n",
        "# cv = joblib.load('count_vectorizer.pkl') # if you saved it earlier\n",
        "\n",
        "# Since we are in the same session, use the existing 'cv' object\n",
        "transformed_input_vector = cv.transform([transformed_input])\n",
        "\n",
        "# Make prediction\n",
        "prediction = best_model.predict(transformed_input_vector)\n",
        "\n",
        "# The prediction will be a numpy array, access the first element for the result\n",
        "print(prediction[0])"
      ],
      "metadata": {
        "id": "FdY733L7pahZ"
      },
      "execution_count": null,
      "outputs": []
    },
    {
      "cell_type": "code",
      "source": [],
      "metadata": {
        "id": "N8ModZ73qKDX"
      },
      "execution_count": null,
      "outputs": []
    }
  ]
}