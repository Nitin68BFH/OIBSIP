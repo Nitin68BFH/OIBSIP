{
  "nbformat": 4,
  "nbformat_minor": 0,
  "metadata": {
    "colab": {
      "private_outputs": true,
      "provenance": []
    },
    "kernelspec": {
      "name": "python3",
      "display_name": "Python 3"
    },
    "language_info": {
      "name": "python"
    }
  },
  "cells": [
    {
      "cell_type": "markdown",
      "source": [
        "# Project Title : Used Vehicle Price Prediction\n",
        "---"
      ],
      "metadata": {
        "id": "MbOFTc9tOE6E"
      }
    },
    {
      "cell_type": "code",
      "execution_count": null,
      "metadata": {
        "id": "-zcnt1x6OB41"
      },
      "outputs": [],
      "source": [
        "import numpy as np\n",
        "import matplotlib.pyplot as plt\n",
        "import seaborn as sns\n",
        "import pandas as pd\n",
        "\n",
        "from sklearn.pipeline import Pipeline\n",
        "from sklearn.ensemble import RandomForestRegressor\n",
        "from sklearn.preprocessing import OneHotEncoder , PowerTransformer\n",
        "from sklearn.compose import ColumnTransformer\n",
        "from sklearn.model_selection import train_test_split"
      ]
    },
    {
      "cell_type": "code",
      "source": [
        "df = pd.read_csv('car data.csv')\n",
        "df.head()"
      ],
      "metadata": {
        "id": "13g-o2_9OXSD"
      },
      "execution_count": null,
      "outputs": []
    },
    {
      "cell_type": "code",
      "source": [
        "df['Owner'].value_counts()"
      ],
      "metadata": {
        "id": "JoVY3C-KLIJI"
      },
      "execution_count": null,
      "outputs": []
    },
    {
      "cell_type": "markdown",
      "source": [
        "EDA\n",
        "-- -"
      ],
      "metadata": {
        "id": "fwixTR4AOoJp"
      }
    },
    {
      "cell_type": "code",
      "source": [
        "df.info()"
      ],
      "metadata": {
        "id": "Uy4yQke3Ogfc"
      },
      "execution_count": null,
      "outputs": []
    },
    {
      "cell_type": "code",
      "source": [
        "num_col = ['Selling_Price', 'Present_Price' , 'Driven_kms']\n",
        "for i in num_col:\n",
        "    plt.figure(figsize=[10,8])\n",
        "    sns.histplot(data = df , x = i , palette = 'Set1' , kde = True)\n",
        "    plt.title(f'Distribution of {i}')\n",
        "    plt.show()"
      ],
      "metadata": {
        "id": "drKFJA1iOtSt"
      },
      "execution_count": null,
      "outputs": []
    },
    {
      "cell_type": "code",
      "source": [
        "cat_col = ['Fuel_Type', 'Transmission', 'Selling_type']\n",
        "for i in cat_col:\n",
        "    plt.figure(figsize=[10,8])\n",
        "    sns.countplot(data = df , x = i , palette = 'Set1')\n",
        "    plt.title(f'Countplot of {i}')\n",
        "    plt.show()"
      ],
      "metadata": {
        "id": "aiEmvM82O5Qk"
      },
      "execution_count": null,
      "outputs": []
    },
    {
      "cell_type": "markdown",
      "source": [
        "### Bivariate Analysis\n",
        "---"
      ],
      "metadata": {
        "id": "FRxhY1zHPAOi"
      }
    },
    {
      "cell_type": "code",
      "source": [
        "#relation b/w selling price and rest columns\n",
        "col = ['Fuel_Type', 'Transmission', 'Selling_type', 'Owner']\n",
        "for i in col:\n",
        "    plt.figure(figsize=[10,8])\n",
        "    sns.barplot(data = df , x = i , y = 'Selling_Price' , palette = 'Set1')\n",
        "    plt.title(f'Relation between Selling Price and {i}')\n",
        "    plt.show()"
      ],
      "metadata": {
        "id": "BO-B_peFO7Fp"
      },
      "execution_count": null,
      "outputs": []
    },
    {
      "cell_type": "markdown",
      "source": [
        "---"
      ],
      "metadata": {
        "id": "FRwcL_RnPKTW"
      }
    },
    {
      "cell_type": "code",
      "source": [
        "df.columns"
      ],
      "metadata": {
        "id": "SeAu-596PDPz"
      },
      "execution_count": null,
      "outputs": []
    },
    {
      "cell_type": "code",
      "source": [
        "df.skew(numeric_only = True)"
      ],
      "metadata": {
        "id": "sKV0XQKyPLnd"
      },
      "execution_count": null,
      "outputs": []
    },
    {
      "cell_type": "code",
      "source": [
        "freq = df['Car_Name'].value_counts()\n",
        "df['Car_Name'] = df['Car_Name'].map(freq)\n"
      ],
      "metadata": {
        "id": "3qyHF9R9xNFm"
      },
      "execution_count": null,
      "outputs": []
    },
    {
      "cell_type": "code",
      "source": [
        "x = df.drop(columns = ['Selling_Price'],axis = 1)\n",
        "y = df['Selling_Price']"
      ],
      "metadata": {
        "id": "U6BQ75guYfgP"
      },
      "execution_count": null,
      "outputs": []
    },
    {
      "cell_type": "code",
      "source": [
        "#columns\n",
        "num_col = ['Present_Price','Driven_kms' , 'Year']\n",
        "cat_col = ['Fuel_Type', 'Transmission', 'Selling_type']"
      ],
      "metadata": {
        "id": "M5zd1guMYhLm"
      },
      "execution_count": null,
      "outputs": []
    },
    {
      "cell_type": "code",
      "source": [],
      "metadata": {
        "id": "oLYwWWw2_LoK"
      },
      "execution_count": null,
      "outputs": []
    },
    {
      "cell_type": "code",
      "source": [],
      "metadata": {
        "id": "3IOVgz3mRTE_"
      },
      "execution_count": null,
      "outputs": []
    },
    {
      "cell_type": "markdown",
      "source": [
        "---"
      ],
      "metadata": {
        "id": "FVb7EmmU7IZX"
      }
    },
    {
      "cell_type": "code",
      "source": [
        "from sklearn.preprocessing import StandardScaler , PowerTransformer\n",
        "\n",
        "preprocessing = ColumnTransformer(transformers=[\n",
        "    ('tnf1_num_col', StandardScaler(), num_col),\n",
        "    ('tnf2_cat_col', OneHotEncoder(), cat_col)\n",
        "] , remainder= 'passthrough')"
      ],
      "metadata": {
        "id": "uIRpfn-A7NtI"
      },
      "execution_count": null,
      "outputs": []
    },
    {
      "cell_type": "code",
      "source": [
        "pipe = Pipeline(steps = [('preprocessing' , preprocessing),\n",
        "                         ('model', RandomForestRegressor(max_depth = None))])\n",
        "\n",
        "#train_test_split\n",
        "x_train , x_test , y_train , y_test = train_test_split(x, y, test_size = 0.2, random_state = 42)\n",
        "\n",
        "pipe.fit(x_train , y_train)\n",
        "\n",
        "y_pred = pipe.predict(x_test)"
      ],
      "metadata": {
        "id": "8VNGo1Hg7PRF"
      },
      "execution_count": null,
      "outputs": []
    },
    {
      "cell_type": "code",
      "source": [
        "from sklearn.metrics import r2_score\n",
        "\n",
        "print('r2_score :',r2_score(y_test , y_pred))"
      ],
      "metadata": {
        "id": "0XVXvtxl7emJ"
      },
      "execution_count": null,
      "outputs": []
    },
    {
      "cell_type": "code",
      "source": [
        "import joblib\n",
        "joblib.dump(pipe , 'pipe_model.joblib')"
      ],
      "metadata": {
        "id": "0kIFNPri7eYS"
      },
      "execution_count": null,
      "outputs": []
    },
    {
      "cell_type": "code",
      "source": [
        "joblib.dump(freq,'car_freq_map.pkl')"
      ],
      "metadata": {
        "id": "MQLwqyqI0X4V"
      },
      "execution_count": null,
      "outputs": []
    },
    {
      "cell_type": "code",
      "source": [],
      "metadata": {
        "id": "sdXSVi6dadwB"
      },
      "execution_count": null,
      "outputs": []
    }
  ]
}